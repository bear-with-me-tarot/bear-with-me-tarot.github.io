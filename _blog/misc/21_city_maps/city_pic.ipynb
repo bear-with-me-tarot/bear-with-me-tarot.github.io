{
 "cells": [
  {
   "cell_type": "code",
   "execution_count": 1,
   "metadata": {},
   "outputs": [],
   "source": [
    "import matplotlib.pyplot as plt\n",
    "import matplotlib.image as mpimg\n",
    "from matplotlib import rcParams\n",
    "import os\n",
    "import os.path\n",
    "import pandas as pd\n",
    "from matplotlib.font_manager import FontProperties\n",
    "from matplotlib.offsetbox import OffsetImage,AnchoredOffsetbox\n",
    "\n",
    "prop = FontProperties(fname='/System/Library/Fonts/Apple Color Emoji.ttc')\n",
    "plt.rcParams['font.family'] = prop.get_family()\n",
    "\n",
    "%matplotlib inline"
   ]
  },
  {
   "cell_type": "code",
   "execution_count": null,
   "metadata": {},
   "outputs": [],
   "source": [
    "# generate images using prettymaps ex. nb: https://github.com/marceloprates/prettymaps\n",
    "ims_dir = '1500'"
   ]
  },
  {
   "cell_type": "code",
   "execution_count": 8,
   "metadata": {},
   "outputs": [],
   "source": [
    "pops = [\n",
    "    ('Tokyo', 37.4, 'Japan'),\n",
    "    ('New Delhi', 28.5, 'India'),\n",
    "    ('Seoul', 25.7, 'South Korea'),\n",
    "    ('Shanghai', 25.6, 'China'),\n",
    "    ('Sao Paulo', 21.7, 'Brazil'),\n",
    "    ('Mexico City', 21.6, 'Mexico'),\n",
    "    ('Cairo', 20.1, 'Egypt'),\n",
    "    ('Mumbai', 20.0, 'India'),\n",
    "    ('Beijing', 19.6, 'China'),\n",
    "    ('Dhaka', 19.6, 'Bangladesh'),\n",
    "    ('Osaka', 19.3, 'Japan'),\n",
    "    ('New York', 18.8, 'United States'),\n",
    "]\n",
    "ims = [\n",
    "    mpimg.imread(os.path.join(ims_dir, pop[0] + ', ' + pop[2] + '.png'))\n",
    "    for pop in pops\n",
    "]"
   ]
  },
  {
   "cell_type": "code",
   "execution_count": 17,
   "metadata": {},
   "outputs": [
    {
     "name": "stdout",
     "output_type": "stream",
     "text": [
      "Beijing, China.png               New York City, United States.svg\r\n",
      "Beijing, China.svg               New York, United States.png\r\n",
      "Cairo, Egypt.png                 Osaka, Japan.png\r\n",
      "Cairo, Egypt.svg                 Osaka, Japan.svg\r\n",
      "Dhaka, Bangladesh.png            Sao Paulo, Brazil.png\r\n",
      "Dhaka, Bangladesh.svg            Sao Paulo, Brazil.svg\r\n",
      "Mexico City, Mexico.png          Seoul, South Korea.png\r\n",
      "Mexico City, Mexico.svg          Seoul, South Korea.svg\r\n",
      "Mumbai, India.png                Shangai, China.svg\r\n",
      "Mumbai, India.svg                Shanghai, China.png\r\n",
      "New Delhi, India.png             Tokyo, Japan.png\r\n",
      "New Delhi, India.svg             Tokyo, Japan.svg\r\n"
     ]
    }
   ],
   "source": [
    "!ls 1500"
   ]
  },
  {
   "cell_type": "code",
   "execution_count": null,
   "metadata": {},
   "outputs": [],
   "source": [
    "# display images\n",
    "plt.figure(figsize=(12, 9), facecolor='#e8e9ca', dpi=150)\n",
    "for i in range(12):\n",
    "    ax = plt.subplot(3, 4, i + 1)\n",
    "    plt.title(pops[i][0] + '\\n' + str(pops[i][1]) + ' mil ' ,\n",
    "              y=0.68, x=0.35, loc='left', fontsize=25)\n",
    "    \n",
    "    \n",
    "    plt.imshow(ims[i][13:-13][13:-13])\n",
    "    img = plt.imread('flags/' + pops[i][2].lower() + '.png')\n",
    "    imagebox = OffsetImage(img, zoom=0.12)\n",
    "    ab = AnchoredOffsetbox(loc=2, child=imagebox, frameon=False)\n",
    "    ax.add_artist(ab)\n",
    "    plt.axis('off')\n",
    "plt.tight_layout(pad=-0.2)\n",
    "# plt.text(x=0, y=0, s='Flag icons by freepik.')\n",
    "plt.figtext(0, -0.04, \n",
    "            (\n",
    "            'World\\'s most populous cities. '\n",
    "            'Made with prettymaps library using data from © OpenStreetMap contributors. '\n",
    "            'By Chandan Singh @csinva_'\n",
    "            '\\n'\n",
    "            'Each image shows a 1.5 km radius around the city center. '\n",
    "            'Population numbers from wikipedia. Flag icons by freepik.'\n",
    "            ),\n",
    "            fontsize=12\n",
    "           )\n",
    "plt.savefig('cities.png')"
   ]
  }
 ],
 "metadata": {
  "kernelspec": {
   "display_name": "Python 3",
   "language": "python",
   "name": "python3"
  },
  "language_info": {
   "codemirror_mode": {
    "name": "ipython",
    "version": 3
   },
   "file_extension": ".py",
   "mimetype": "text/x-python",
   "name": "python",
   "nbconvert_exporter": "python",
   "pygments_lexer": "ipython3",
   "version": "3.7.0"
  }
 },
 "nbformat": 4,
 "nbformat_minor": 4
}
